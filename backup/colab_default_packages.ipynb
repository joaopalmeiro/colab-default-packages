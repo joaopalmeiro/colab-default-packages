{
  "nbformat": 4,
  "nbformat_minor": 0,
  "metadata": {
    "colab": {
      "provenance": [],
      "collapsed_sections": []
    },
    "kernelspec": {
      "name": "python3",
      "display_name": "Python 3"
    },
    "language_info": {
      "name": "python"
    }
  },
  "cells": [
    {
      "cell_type": "code",
      "execution_count": null,
      "metadata": {
        "id": "bWs7DOXW0ZkG"
      },
      "outputs": [],
      "source": [
        "!pip list --format=json > packages.json"
      ]
    },
    {
      "cell_type": "code",
      "source": [
        "import platform\n",
        "from datetime import datetime\n",
        "import json\n",
        "import pandas as pd"
      ],
      "metadata": {
        "id": "u98P4JfW-wU7"
      },
      "execution_count": null,
      "outputs": []
    },
    {
      "cell_type": "code",
      "source": [
        "metadata = {\n",
        "    \"python\": platform.python_version(),\n",
        "    \"last_update\": str(datetime.today().date()),\n",
        "}\n",
        "metadata"
      ],
      "metadata": {
        "id": "PZKHsryO_riM"
      },
      "execution_count": null,
      "outputs": []
    },
    {
      "cell_type": "code",
      "source": [
        "with open(\"metadata.json\", \"w\", encoding=\"utf-8\") as f:\n",
        "    json.dump(metadata, f, ensure_ascii=False)\n",
        "    f.write(\"\\n\")"
      ],
      "metadata": {
        "id": "1rOqX_fY_5FK"
      },
      "execution_count": null,
      "outputs": []
    },
    {
      "cell_type": "markdown",
      "source": [
        "---"
      ],
      "metadata": {
        "id": "VWPIdbwDAIWA"
      }
    }
  ]
}